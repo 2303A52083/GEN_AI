{
  "nbformat": 4,
  "nbformat_minor": 0,
  "metadata": {
    "colab": {
      "provenance": [],
      "authorship_tag": "ABX9TyMfxI1/z1BEiggJI2DCxcfj",
      "include_colab_link": true
    },
    "kernelspec": {
      "name": "python3",
      "display_name": "Python 3"
    },
    "language_info": {
      "name": "python"
    }
  },
  "cells": [
    {
      "cell_type": "markdown",
      "metadata": {
        "id": "view-in-github",
        "colab_type": "text"
      },
      "source": [
        "<a href=\"https://colab.research.google.com/github/2303A52083/GEN_AI/blob/main/GEN_AI_A3.ipynb\" target=\"_parent\"><img src=\"https://colab.research.google.com/assets/colab-badge.svg\" alt=\"Open In Colab\"/></a>"
      ]
    },
    {
      "cell_type": "markdown",
      "source": [
        "1)Minimum value of x for f(x)=5x^4+3x^2+10\n",
        "\n",
        "2)Minimum value for x and y for g(x,y)=3x^2+5e^-y+10\n",
        "\n",
        "3)Minimum value for x for z(x)=1/1+e^-x\n",
        "\n",
        "4)Optimal values for M and C\n"
      ],
      "metadata": {
        "id": "rTyeskxFT1eB"
      }
    },
    {
      "cell_type": "code",
      "execution_count": 1,
      "metadata": {
        "colab": {
          "base_uri": "https://localhost:8080/"
        },
        "id": "Ok7KWDrBOiSm",
        "outputId": "f6fac30b-d0bf-4574-ca80-717f78bab652"
      },
      "outputs": [
        {
          "output_type": "stream",
          "name": "stdout",
          "text": [
            "Minimum value of x for f(x) is approximately 0.0\n"
          ]
        }
      ],
      "source": [
        "# Task 1: Gradient Descent for Single Variable Function\n",
        "def gradient_descent_f1(learning_rate=0.01, iterations=1000):\n",
        "    x = 0  # Initial guess\n",
        "    for _ in range(iterations):\n",
        "        gradient = 20 * x**3 + 6 * x  # Derivative of f(x)\n",
        "        x -= learning_rate * gradient\n",
        "    return x\n",
        "\n",
        "x_min = gradient_descent_f1()\n",
        "print(f\"Minimum value of x for f(x) is approximately {x_min}\")\n"
      ]
    },
    {
      "cell_type": "code",
      "source": [
        "# Task 2: Gradient Descent for Multivariable Function\n",
        "def gradient_descent_f2(learning_rate=0.01, iterations=1000):\n",
        "    x, y = 0, 0  # Initial guess\n",
        "    for _ in range(iterations):\n",
        "        grad_x = 6 * x  # Partial derivative with respect to x\n",
        "        grad_y = -5 * (2.71828**-y)  # Partial derivative with respect to y\n",
        "        x -= learning_rate * grad_x\n",
        "        y -= learning_rate * grad_y\n",
        "    return x, y\n",
        "\n",
        "x_min, y_min = gradient_descent_f2()\n",
        "print(f\"Minimum values are x = {x_min}, y = {y_min}\")\n"
      ],
      "metadata": {
        "colab": {
          "base_uri": "https://localhost:8080/"
        },
        "id": "8idoyQ8ZQ9eL",
        "outputId": "9ab48f7d-96ae-4c08-a920-8448c5343f18"
      },
      "execution_count": 2,
      "outputs": [
        {
          "output_type": "stream",
          "name": "stdout",
          "text": [
            "Minimum values are x = 0.0, y = 3.933762227862872\n"
          ]
        }
      ]
    },
    {
      "cell_type": "code",
      "source": [
        "# Task 3: Gradient Descent for Sigmoid Function\n",
        "def gradient_descent_f3(learning_rate=0.01, iterations=1000):\n",
        "    x = 0  # Initial guess\n",
        "    for _ in range(iterations):\n",
        "        sigmoid = 1 / (1 + 2.71828**-x)\n",
        "        gradient = sigmoid * (1 - sigmoid)  # Derivative of sigmoid\n",
        "        x -= learning_rate * gradient\n",
        "    return x\n",
        "\n",
        "x_min = gradient_descent_f3()\n",
        "print(f\"Minimum value of x for z(x) is approximately {x_min}\")\n"
      ],
      "metadata": {
        "colab": {
          "base_uri": "https://localhost:8080/"
        },
        "id": "AOJiNWs6RPyB",
        "outputId": "d7899da6-8e76-45f7-dae7-0888edfbb22f"
      },
      "execution_count": 3,
      "outputs": [
        {
          "output_type": "stream",
          "name": "stdout",
          "text": [
            "Minimum value of x for z(x) is approximately -1.8618359316575634\n"
          ]
        }
      ]
    },
    {
      "cell_type": "code",
      "source": [
        "def gradient_descent_f4(expected_output, predicted_output, learning_rate=0.001, iterations=1000):\n",
        "    M, C = 0, 0  # Initial guesses\n",
        "    n = len(expected_output)  # Number of data points\n",
        "\n",
        "    if n == 0:\n",
        "        raise ValueError(\"Input data is empty.\")\n",
        "\n",
        "    for _ in range(iterations):\n",
        "        error = [expected_output[i] - (M * predicted_output[i] + C) for i in range(n)]\n",
        "        grad_M = -2 * sum([error[i] * predicted_output[i] for i in range(n)]) / n\n",
        "        grad_C = -2 * sum(error) / n\n",
        "\n",
        "        # Gradient clipping\n",
        "        grad_M = max(min(grad_M, 1e3), -1e3)\n",
        "        grad_C = max(min(grad_C, 1e3), -1e3)\n",
        "\n",
        "        M -= learning_rate * grad_M\n",
        "        C -= learning_rate * grad_C\n",
        "\n",
        "    return M, C\n",
        "\n",
        "# Example data\n",
        "expected_output = [10, 20, 30]\n",
        "predicted_output = [9, 19, 29]\n",
        "M_opt, C_opt = gradient_descent_f4(expected_output, predicted_output)\n",
        "print(f\"Optimal values are M = {M_opt}, C = {C_opt}\")\n"
      ],
      "metadata": {
        "colab": {
          "base_uri": "https://localhost:8080/"
        },
        "id": "rc4JVm8WSDlq",
        "outputId": "e3e513f4-2a7f-489d-88a4-fa710b479209"
      },
      "execution_count": 6,
      "outputs": [
        {
          "output_type": "stream",
          "name": "stdout",
          "text": [
            "Optimal values are M = 1.031049300094718, C = 0.3013726261784111\n"
          ]
        }
      ]
    }
  ]
}